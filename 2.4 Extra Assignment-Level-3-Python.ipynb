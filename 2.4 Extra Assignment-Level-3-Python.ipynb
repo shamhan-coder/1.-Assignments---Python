{
 "cells": [
  {
   "cell_type": "code",
   "execution_count": 7,
   "id": "b5e4f6ed",
   "metadata": {},
   "outputs": [
    {
     "name": "stdout",
     "output_type": "stream",
     "text": [
      "Value =10\n",
      "Correct\n"
     ]
    }
   ],
   "source": [
    "i=10\n",
    "print(\"Value\",\"=10\")\n",
    "if (i==10):\n",
    "    print(\"Correct\")"
   ]
  },
  {
   "cell_type": "code",
   "execution_count": 25,
   "id": "bf0462b1",
   "metadata": {},
   "outputs": [
    {
     "name": "stdout",
     "output_type": "stream",
     "text": [
      "Enter the Password :HOPE@123\n",
      "Your password is correct\n"
     ]
    }
   ],
   "source": [
    "\n",
    "Password1=input(\"Enter the Password :\")\n",
    "if(Password1==\"HOPE@123\"):\n",
    "     print(\"Your password is correct\")\n",
    "else:\n",
    "    print(\"Password is Wrong\")"
   ]
  },
  {
   "cell_type": "code",
   "execution_count": 23,
   "id": "adb7d46a",
   "metadata": {},
   "outputs": [
    {
     "name": "stdout",
     "output_type": "stream",
     "text": [
      "Age:20\n",
      "Adult\n"
     ]
    }
   ],
   "source": [
    "age=int(input(\"Age:\"))\n",
    "if(age<18):\n",
    "    print(\"Children\")\n",
    "elif(age<35):\n",
    "    print(\"Adult\")\n",
    "elif(age<59):\n",
    "    print(\"Citizen\")\n",
    "else:\n",
    "    print(\"Senior Citizen\")\n",
    "    "
   ]
  },
  {
   "cell_type": "code",
   "execution_count": 36,
   "id": "2b3cfaa0",
   "metadata": {},
   "outputs": [
    {
     "name": "stdout",
     "output_type": "stream",
     "text": [
      "Enter Any Number :0\n",
      "No is Possitive\n"
     ]
    }
   ],
   "source": [
    "number=int(input(\"Enter Any Number :\"))\n",
    "if(number>=0):\n",
    "    print(\"No is Possitive\")\n",
    "else:\n",
    "    print(\"No is Negative\")"
   ]
  },
  {
   "cell_type": "code",
   "execution_count": 38,
   "id": "979f45ed",
   "metadata": {},
   "outputs": [
    {
     "name": "stdout",
     "output_type": "stream",
     "text": [
      "Enter The Number to Check :6\n",
      "No is not divisible by 5\n"
     ]
    }
   ],
   "source": [
    "number=int(input(\"Enter The Number to Check :\"))\n",
    "if(number%5==0):\n",
    "    print(\"No is  divisible by 5\")\n",
    "else:\n",
    "    print(\"No is not divisible by 5\")"
   ]
  },
  {
   "cell_type": "code",
   "execution_count": null,
   "id": "553a8597",
   "metadata": {},
   "outputs": [],
   "source": []
  }
 ],
 "metadata": {
  "kernelspec": {
   "display_name": "Python 3 (ipykernel)",
   "language": "python",
   "name": "python3"
  },
  "language_info": {
   "codemirror_mode": {
    "name": "ipython",
    "version": 3
   },
   "file_extension": ".py",
   "mimetype": "text/x-python",
   "name": "python",
   "nbconvert_exporter": "python",
   "pygments_lexer": "ipython3",
   "version": "3.11.5"
  }
 },
 "nbformat": 4,
 "nbformat_minor": 5
}
