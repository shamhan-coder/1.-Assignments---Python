{
 "cells": [
  {
   "cell_type": "code",
   "execution_count": 54,
   "id": "02a2a5eb",
   "metadata": {},
   "outputs": [],
   "source": [
    "\n",
    "def SubfieldsInAI():\n",
    "    \n",
    "    lists=[\"Sub-fields in AI are:\",\"Machine Learning\",\"Neural Networks\",\"Vision\",\"Robotics\",\"Speech Processing\",\"Natural Language Processing\"]\n",
    "    for temp in lists:\n",
    "        print(temp)"
   ]
  },
  {
   "cell_type": "code",
   "execution_count": 55,
   "id": "f95d7039",
   "metadata": {},
   "outputs": [
    {
     "name": "stdout",
     "output_type": "stream",
     "text": [
      "Sub-fields in AI are:\n",
      "Machine Learning\n",
      "Neural Networks\n",
      "Vision\n",
      "Robotics\n",
      "Speech Processing\n",
      "Natural Language Processing\n"
     ]
    }
   ],
   "source": [
    "SubfieldsInAI()"
   ]
  },
  {
   "cell_type": "code",
   "execution_count": 63,
   "id": "3f20490e",
   "metadata": {},
   "outputs": [
    {
     "name": "stdout",
     "output_type": "stream",
     "text": [
      "Enter The Number :52452\n",
      "Even Number\n"
     ]
    }
   ],
   "source": [
    "def OddEven():\n",
    "    num=int(input(\"Enter The Number :\"))\n",
    "    if((num%2)==1):\n",
    "        print(\"Odd Number\")\n",
    "        message=\"Odd number\"\n",
    "    else:\n",
    "        print(\"Even Number\")\n",
    "        message=\"Even Number\"\n",
    "    return message\n",
    "message=OddEven()"
   ]
  },
  {
   "cell_type": "code",
   "execution_count": null,
   "id": "2b7374aa",
   "metadata": {},
   "outputs": [],
   "source": []
  },
  {
   "cell_type": "code",
   "execution_count": 46,
   "id": "f07e639b",
   "metadata": {},
   "outputs": [
    {
     "name": "stdout",
     "output_type": "stream",
     "text": [
      "Enter the Gender :male\n",
      "Enter the age :20\n"
     ]
    }
   ],
   "source": [
    "gender=input(\"Enter the Gender :\")\n",
    "age=int(input(\"Enter the age :\"))\n",
    "\n",
    "def marriageeligibilty():\n",
    "    if (gender==\"female\"):\n",
    "        if(age>=18):\n",
    "            print(\"Eligibile for Marriage\")\n",
    "        else:\n",
    "            print(\"Not Eligible for Marriage\")\n",
    "    if (gender==\"male\"):\n",
    "        if(age>=21):\n",
    "            print(\"Eligibile for Marriage\")\n",
    "        else:\n",
    "            print(\"Not Eligible for Marriage\")\n",
    "\n"
   ]
  },
  {
   "cell_type": "code",
   "execution_count": 47,
   "id": "461b4ed9",
   "metadata": {},
   "outputs": [
    {
     "name": "stdout",
     "output_type": "stream",
     "text": [
      "Not Eligible for Marriage\n"
     ]
    }
   ],
   "source": [
    "marriageeligibilty()"
   ]
  },
  {
   "cell_type": "code",
   "execution_count": 48,
   "id": "b59dcd58",
   "metadata": {},
   "outputs": [
    {
     "name": "stdout",
     "output_type": "stream",
     "text": [
      "Subject 1 = 80\n",
      "Subject 2 = 90\n",
      "Subject 3 = 95\n",
      "Subject 4 = 100\n",
      "Subject 5 = 20\n"
     ]
    }
   ],
   "source": [
    "\n",
    "sub1=int(input(\"Subject 1 = \"))\n",
    "sub2=int(input(\"Subject 2 = \"))\n",
    "sub3=int(input(\"Subject 3 = \"))\n",
    "sub4=int(input(\"Subject 4 = \"))\n",
    "sub5=int(input(\"Subject 5 = \"))\n",
    "\n",
    "def marks():\n",
    "    Total=sub1+sub2+sub3+sub4+sub5\n",
    "    print(\"Total\",Total)\n",
    "    avg=Total/500\n",
    "    percentage=(avg)*100\n",
    "    print(\"Percentage\",percentage)\n"
   ]
  },
  {
   "cell_type": "code",
   "execution_count": 49,
   "id": "860b114e",
   "metadata": {},
   "outputs": [
    {
     "name": "stdout",
     "output_type": "stream",
     "text": [
      "Total 385\n",
      "Percentage 77.0\n"
     ]
    }
   ],
   "source": [
    "marks()"
   ]
  },
  {
   "cell_type": "code",
   "execution_count": 62,
   "id": "0d991687",
   "metadata": {},
   "outputs": [
    {
     "name": "stdout",
     "output_type": "stream",
     "text": [
      "Enter the Height 1 :10\n",
      "Enter the Breadth :20\n",
      "Enter the Height 2 :30\n",
      "Area formula: (Height*Breadth)/2\n",
      "Area of Triangle 100.0\n",
      "Enter the Height 1 :10\n",
      "Enter the Breadth :10\n",
      "Enter the Height 2 :10\n",
      "Perimeter formula: Height1+Height2+Breadth\n",
      "Permeter 30\n"
     ]
    }
   ],
   "source": [
    "h1=int(input(\"Enter the Height 1 :\"))\n",
    "b1=int(input(\"Enter the Breadth :\"))\n",
    "h2=int(input(\"Enter the Height 2 :\"))\n",
    "print(\"Area formula: (Height*Breadth)/2\")\n",
    "\n",
    "def triangle():\n",
    "    Area=(h1*b1)/2\n",
    "    print(\"Area of Triangle\", Area)\n",
    "triangle()\n",
    "    \n",
    "h3=int(input(\"Enter the Height 1 :\"))\n",
    "b2=int(input(\"Enter the Breadth :\"))\n",
    "h4=int(input(\"Enter the Height 2 :\"))\n",
    "peri=h3+h4+b2\n",
    "print(\"Perimeter formula: Height1+Height2+Breadth\")\n",
    "print(\"Permeter\",peri)\n",
    "    \n",
    "    "
   ]
  },
  {
   "cell_type": "code",
   "execution_count": null,
   "id": "97628e9e",
   "metadata": {},
   "outputs": [],
   "source": []
  },
  {
   "cell_type": "code",
   "execution_count": null,
   "id": "93d9943a",
   "metadata": {},
   "outputs": [],
   "source": []
  }
 ],
 "metadata": {
  "kernelspec": {
   "display_name": "Python 3 (ipykernel)",
   "language": "python",
   "name": "python3"
  },
  "language_info": {
   "codemirror_mode": {
    "name": "ipython",
    "version": 3
   },
   "file_extension": ".py",
   "mimetype": "text/x-python",
   "name": "python",
   "nbconvert_exporter": "python",
   "pygments_lexer": "ipython3",
   "version": "3.11.5"
  }
 },
 "nbformat": 4,
 "nbformat_minor": 5
}
