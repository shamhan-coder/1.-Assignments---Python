{
 "cells": [
  {
   "cell_type": "code",
   "execution_count": null,
   "id": "02a2a5eb",
   "metadata": {},
   "outputs": [],
   "source": [
    "def SubfieldsInAI(temp):\n",
    "    for list in temp:\n",
    "        print(item)\n",
    "\n",
    "SubfieldsInAI = [\"Sub-fields in AI are:\", \"Machine Learning\", \"Neural Networks\", \"Vision\",\"Robotics\",\"Speech Processing\",\"Natural Language Processing\"]\n",
    "\n",
    "print_list(SubfieldsInAI)"
   ]
  },
  {
   "cell_type": "code",
   "execution_count": null,
   "id": "3f20490e",
   "metadata": {},
   "outputs": [],
   "source": [
    "def OddEven():\n",
    "    num=int(input(\"Enter The Number :\"))\n",
    "    if((num%2)==1):\n",
    "        print(\"Odd Number\")\n",
    "        message=\"Odd number\"\n",
    "    else:\n",
    "        print(\"Even Number\")\n",
    "        message=\"Even Number\"\n",
    "    return message\n",
    "message=OddEven()"
   ]
  },
  {
   "cell_type": "code",
   "execution_count": null,
   "id": "f07e639b",
   "metadata": {},
   "outputs": [],
   "source": [
    "gender=input(\"Enter the Gender :\")\n",
    "age=int(input(\"Enter the age :\"))\n",
    "\n",
    "def marriageeligibilty():\n",
    "    if (gender==\"female\"):\n",
    "        if(age>=18):\n",
    "            print(\"Eligibile for Marriage\")\n",
    "        else:\n",
    "            print(\"Not Eligible for Marriage\")\n",
    "    if (gender==\"male\"):\n",
    "        if(age>=21):\n",
    "            print(\"Eligibile for Marriage\")\n",
    "        else:\n",
    "            print(\"Not Eligible for Marriage\")\n",
    "\n"
   ]
  },
  {
   "cell_type": "code",
   "execution_count": null,
   "id": "461b4ed9",
   "metadata": {},
   "outputs": [],
   "source": [
    "marriageeligibilty()"
   ]
  },
  {
   "cell_type": "code",
   "execution_count": null,
   "id": "d56ce4fa",
   "metadata": {},
   "outputs": [],
   "source": [
    "\n",
    "sub1=int(input(\"Subject 1 = \"))\n",
    "sub2=int(input(\"Subject 2 = \"))\n",
    "sub3=int(input(\"Subject 3 = \"))\n",
    "sub4=int(input(\"Subject 4 = \"))\n",
    "sub5=int(input(\"Subject 5 = \"))\n",
    "\n",
    "def marks():\n",
    "    Total=sub1+sub2+sub3+sub4+sub5\n",
    "    print(\"Total\",Total)\n",
    "    avg=Total/500\n",
    "    percentage=(avg)*100\n",
    "    print(\"Percentage\",percentage)\n"
   ]
  },
  {
   "cell_type": "code",
   "execution_count": null,
   "id": "b4077894",
   "metadata": {},
   "outputs": [],
   "source": [
    "marks()"
   ]
  },
  {
   "cell_type": "code",
   "execution_count": 23,
   "id": "87fd2f49",
   "metadata": {},
   "outputs": [
    {
     "name": "stdout",
     "output_type": "stream",
     "text": [
      "Enter the Height 1 :32\n",
      "Enter the Breadth :34\n",
      "Enter the Height 2 :0\n"
     ]
    }
   ],
   "source": [
    "h1=int(input(\"Enter the Height 1 :\"))\n",
    "b1=int(input(\"Enter the Breadth :\"))\n",
    "h2=int(input(\"Enter the Height 2 :\"))\n",
    "def triangle():\n",
    "    Area=(h1*b1)/2\n",
    "    print(\"Area of Triangle\", Area)\n",
    "    \n",
    " \n",
    "    \n",
    "    "
   ]
  },
  {
   "cell_type": "code",
   "execution_count": 25,
   "id": "5cb94abc",
   "metadata": {},
   "outputs": [
    {
     "name": "stdout",
     "output_type": "stream",
     "text": [
      "Area of Triangle 544.0\n",
      "Enter the Height 1 :2\n",
      "Enter the Breadth :4\n",
      "Enter the Height 2 :4\n",
      "Permeter 10\n"
     ]
    }
   ],
   "source": [
    "triangle()\n",
    "h3=int(input(\"Enter the Height 1 :\"))\n",
    "b2=int(input(\"Enter the Breadth :\"))\n",
    "h4=int(input(\"Enter the Height 2 :\"))\n",
    "peri=h3+h4+b2\n",
    "print(\"Permeter\",peri)"
   ]
  },
  {
   "cell_type": "code",
   "execution_count": null,
   "id": "af0adfaf",
   "metadata": {},
   "outputs": [],
   "source": []
  }
 ],
 "metadata": {
  "kernelspec": {
   "display_name": "Python 3 (ipykernel)",
   "language": "python",
   "name": "python3"
  },
  "language_info": {
   "codemirror_mode": {
    "name": "ipython",
    "version": 3
   },
   "file_extension": ".py",
   "mimetype": "text/x-python",
   "name": "python",
   "nbconvert_exporter": "python",
   "pygments_lexer": "ipython3",
   "version": "3.11.5"
  }
 },
 "nbformat": 4,
 "nbformat_minor": 5
}
