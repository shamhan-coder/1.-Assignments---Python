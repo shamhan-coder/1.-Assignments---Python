{
 "cells": [
  {
   "cell_type": "code",
   "execution_count": 28,
   "id": "0b9df72d",
   "metadata": {},
   "outputs": [],
   "source": [
    " class subFieldsinAI():\n",
    "    def SubfieldsInAI():\n",
    "\n",
    "        lists=[\"Sub-fields in AI are:\",\"Machine Learning\",\"Neural Networks\",\"Vision\",\"Robotics\",\"Speech Processing\",\"Natural Language Processing\"]\n",
    "        for temp in lists:\n",
    "            print(temp)"
   ]
  },
  {
   "cell_type": "code",
   "execution_count": 29,
   "id": "387bb31e",
   "metadata": {},
   "outputs": [
    {
     "name": "stdout",
     "output_type": "stream",
     "text": [
      "Sub-fields in AI are:\n",
      "Machine Learning\n",
      "Neural Networks\n",
      "Vision\n",
      "Robotics\n",
      "Speech Processing\n",
      "Natural Language Processing\n"
     ]
    }
   ],
   "source": [
    "Results1=subFieldsinAI.SubfieldsInAI()"
   ]
  },
  {
   "cell_type": "code",
   "execution_count": 30,
   "id": "c7ac731d",
   "metadata": {},
   "outputs": [],
   "source": [
    "class OddEvens():\n",
    "    def OddEven():\n",
    "        num=int(input(\"Enter The Number :\"))\n",
    "        if((num%2)==1):\n",
    "            message=\"Odd number\"\n",
    "            print(num,\"is Odd Number\")\n",
    "        else:\n",
    "            print(num,\"is Even Number\")\n",
    "            message=\"Even Number\"\n",
    "        return message"
   ]
  },
  {
   "cell_type": "code",
   "execution_count": 31,
   "id": "5c7b1531",
   "metadata": {},
   "outputs": [
    {
     "name": "stdout",
     "output_type": "stream",
     "text": [
      "Enter The Number :225\n",
      "225 is Odd Number\n"
     ]
    }
   ],
   "source": [
    "results2=OddEvens.OddEven()"
   ]
  },
  {
   "cell_type": "code",
   "execution_count": 5,
   "id": "83240186",
   "metadata": {},
   "outputs": [
    {
     "name": "stdout",
     "output_type": "stream",
     "text": [
      "Enter the Gender :female\n",
      "Enter the age :50\n"
     ]
    }
   ],
   "source": [
    "class marriage():\n",
    "    gender=input(\"Enter the Gender :\")\n",
    "    age=int(input(\"Enter the age :\"))\n",
    "\n",
    "    def marriageeligibilty():\n",
    "        if (gender==\"female\"):\n",
    "            if(age>=18):\n",
    "                print(\"Eligibile for Marriage\")\n",
    "            else:\n",
    "                print(\"Not Eligible for Marriage\")\n",
    "        if (gender==\"male\"):\n",
    "            if(age>=21):\n",
    "                print(\"Eligibile for Marriage\")\n",
    "            else:\n",
    "                print(\"Not Eligible for Marriage\")\n",
    "            return marriageeligibilty()\n",
    "\n"
   ]
  },
  {
   "cell_type": "code",
   "execution_count": 6,
   "id": "e5d6af0e",
   "metadata": {},
   "outputs": [
    {
     "ename": "NameError",
     "evalue": "name 'gender' is not defined",
     "output_type": "error",
     "traceback": [
      "\u001b[1;31m---------------------------------------------------------------------------\u001b[0m",
      "\u001b[1;31mNameError\u001b[0m                                 Traceback (most recent call last)",
      "Cell \u001b[1;32mIn[6], line 1\u001b[0m\n\u001b[1;32m----> 1\u001b[0m results3\u001b[38;5;241m=\u001b[39mmarriage\u001b[38;5;241m.\u001b[39mmarriageeligibilty()\n",
      "Cell \u001b[1;32mIn[5], line 6\u001b[0m, in \u001b[0;36mmarriage.marriageeligibilty\u001b[1;34m()\u001b[0m\n\u001b[0;32m      5\u001b[0m \u001b[38;5;28;01mdef\u001b[39;00m \u001b[38;5;21mmarriageeligibilty\u001b[39m():\n\u001b[1;32m----> 6\u001b[0m     \u001b[38;5;28;01mif\u001b[39;00m (gender\u001b[38;5;241m==\u001b[39m\u001b[38;5;124m\"\u001b[39m\u001b[38;5;124mfemale\u001b[39m\u001b[38;5;124m\"\u001b[39m):\n\u001b[0;32m      7\u001b[0m         \u001b[38;5;28;01mif\u001b[39;00m(age\u001b[38;5;241m>\u001b[39m\u001b[38;5;241m=\u001b[39m\u001b[38;5;241m18\u001b[39m):\n\u001b[0;32m      8\u001b[0m             \u001b[38;5;28mprint\u001b[39m(\u001b[38;5;124m\"\u001b[39m\u001b[38;5;124mEligibile for Marriage\u001b[39m\u001b[38;5;124m\"\u001b[39m)\n",
      "\u001b[1;31mNameError\u001b[0m: name 'gender' is not defined"
     ]
    }
   ],
   "source": [
    "results3=marriage.marriageeligibilty()"
   ]
  },
  {
   "cell_type": "code",
   "execution_count": 33,
   "id": "6e40db14",
   "metadata": {},
   "outputs": [
    {
     "name": "stdout",
     "output_type": "stream",
     "text": [
      "Subject 1 = 50\n",
      "Subject 2 = 40\n",
      "Subject 3 = 40\n",
      "Subject 4 = 40\n",
      "Subject 5 = 40\n"
     ]
    }
   ],
   "source": [
    "\n",
    "sub1=int(input(\"Subject 1 = \"))\n",
    "sub2=int(input(\"Subject 2 = \"))\n",
    "sub3=int(input(\"Subject 3 = \"))\n",
    "sub4=int(input(\"Subject 4 = \"))\n",
    "sub5=int(input(\"Subject 5 = \"))\n",
    "\n",
    "class percentage(): \n",
    "    def marks():\n",
    "        Total=sub1+sub2+sub3+sub4+sub5\n",
    "        print(\"Total\",Total)\n",
    "        avg=Total/500\n",
    "        percentage=(avg)*100\n",
    "        print(\"Percentage\",percentage)"
   ]
  },
  {
   "cell_type": "code",
   "execution_count": 36,
   "id": "6cc9c2c7",
   "metadata": {},
   "outputs": [
    {
     "name": "stdout",
     "output_type": "stream",
     "text": [
      "Total 210\n",
      "Percentage 42.0\n"
     ]
    }
   ],
   "source": [
    "percentage.marks()"
   ]
  },
  {
   "cell_type": "code",
   "execution_count": 43,
   "id": "fadd4021",
   "metadata": {},
   "outputs": [
    {
     "ename": "IndentationError",
     "evalue": "unexpected indent (512859483.py, line 6)",
     "output_type": "error",
     "traceback": [
      "\u001b[1;36m  Cell \u001b[1;32mIn[43], line 6\u001b[1;36m\u001b[0m\n\u001b[1;33m    print(\"Area formula: (Height*Breadth)/2\")\u001b[0m\n\u001b[1;37m    ^\u001b[0m\n\u001b[1;31mIndentationError\u001b[0m\u001b[1;31m:\u001b[0m unexpected indent\n"
     ]
    }
   ],
   "source": [
    "class Tria():\n",
    "    def triangle():\n",
    "        h1=int(input(\"Enter the Height 1 :\"))\n",
    "        b1=int(input(\"Enter the Breadth :\"))\n",
    "        h2=int(input(\"Enter the Height 2 :\"))\n",
    "            print(\"Area formula: (Height*Breadth)/2\")\n",
    "\n",
    "\n",
    "        Area=(h1*b1)/2\n",
    "            print(\"Area of Triangle\", Area)\n",
    "        triangle()\n",
    "\n",
    "        h3=int(input(\"Enter the Height 1 :\"))\n",
    "        b2=int(input(\"Enter the Breadth :\"))\n",
    "        h4=int(input(\"Enter the Height 2 :\"))\n",
    "        peri=h3+h4+b2\n",
    "            print(\"Perimeter formula: Height1+Height2+Breadth\")\n",
    "            print(\"Permeter\",peri)"
   ]
  },
  {
   "cell_type": "code",
   "execution_count": 37,
   "id": "9a30dc92",
   "metadata": {},
   "outputs": [
    {
     "ename": "NameError",
     "evalue": "name 'tria' is not defined",
     "output_type": "error",
     "traceback": [
      "\u001b[1;31m---------------------------------------------------------------------------\u001b[0m",
      "\u001b[1;31mNameError\u001b[0m                                 Traceback (most recent call last)",
      "Cell \u001b[1;32mIn[37], line 1\u001b[0m\n\u001b[1;32m----> 1\u001b[0m tria\u001b[38;5;241m.\u001b[39mtriangle()\n",
      "\u001b[1;31mNameError\u001b[0m: name 'tria' is not defined"
     ]
    }
   ],
   "source": [
    "tria.triangle()"
   ]
  },
  {
   "cell_type": "code",
   "execution_count": null,
   "id": "a1f5ea3a",
   "metadata": {},
   "outputs": [],
   "source": []
  }
 ],
 "metadata": {
  "kernelspec": {
   "display_name": "Python 3 (ipykernel)",
   "language": "python",
   "name": "python3"
  },
  "language_info": {
   "codemirror_mode": {
    "name": "ipython",
    "version": 3
   },
   "file_extension": ".py",
   "mimetype": "text/x-python",
   "name": "python",
   "nbconvert_exporter": "python",
   "pygments_lexer": "ipython3",
   "version": "3.11.5"
  }
 },
 "nbformat": 4,
 "nbformat_minor": 5
}
