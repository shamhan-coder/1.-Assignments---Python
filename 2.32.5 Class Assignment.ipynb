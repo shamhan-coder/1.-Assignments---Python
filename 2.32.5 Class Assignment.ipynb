{
 "cells": [
  {
   "cell_type": "code",
   "execution_count": 1,
   "id": "0200e914",
   "metadata": {},
   "outputs": [],
   "source": [
    " class subFieldsinAI():\n",
    "    def SubfieldsInAI():\n",
    "\n",
    "        lists=[\"Sub-fields in AI are:\",\"Machine Learning\",\"Neural Networks\",\"Vision\",\"Robotics\",\"Speech Processing\",\"Natural Language Processing\"]\n",
    "        for temp in lists:\n",
    "            print(temp)"
   ]
  },
  {
   "cell_type": "code",
   "execution_count": 2,
   "id": "70950850",
   "metadata": {},
   "outputs": [
    {
     "name": "stdout",
     "output_type": "stream",
     "text": [
      "Sub-fields in AI are:\n",
      "Machine Learning\n",
      "Neural Networks\n",
      "Vision\n",
      "Robotics\n",
      "Speech Processing\n",
      "Natural Language Processing\n"
     ]
    }
   ],
   "source": [
    "subFieldsinAI.SubfieldsInAI()"
   ]
  },
  {
   "cell_type": "code",
   "execution_count": 3,
   "id": "3bdd716d",
   "metadata": {},
   "outputs": [],
   "source": [
    "class OddEvens():\n",
    "    def OddEven():\n",
    "        num=int(input(\"Enter The Number :\"))\n",
    "        if((num%2)==1):\n",
    "            message=\"Odd number\"\n",
    "            print(num,\"is Odd Number\")\n",
    "        else:\n",
    "            print(num,\"is Even Number\")\n",
    "            message=\"Even Number\"\n",
    "        return message"
   ]
  },
  {
   "cell_type": "code",
   "execution_count": 4,
   "id": "1ce2f3c6",
   "metadata": {},
   "outputs": [
    {
     "name": "stdout",
     "output_type": "stream",
     "text": [
      "Enter The Number :54542\n",
      "54542 is Even Number\n"
     ]
    },
    {
     "data": {
      "text/plain": [
       "'Even Number'"
      ]
     },
     "execution_count": 4,
     "metadata": {},
     "output_type": "execute_result"
    }
   ],
   "source": [
    "OddEvens.OddEven()"
   ]
  },
  {
   "cell_type": "code",
   "execution_count": 7,
   "id": "069a7c43",
   "metadata": {},
   "outputs": [],
   "source": [
    "class marriage():\n",
    "    def marriageeligibilty():\n",
    "        gender=input(\"Enter the Gender :\")\n",
    "        age=int(input(\"Enter the age :\"))\n",
    "        if (gender==\"female\"):\n",
    "            if(age>=18):\n",
    "                print(\"Eligibile for Marriage\")\n",
    "            else:\n",
    "                print(\"Not Eligible for Marriage\")\n",
    "        if (gender==\"male\"):\n",
    "            if(age>=21):\n",
    "                print(\"Eligibile for Marriage\")\n",
    "            else:\n",
    "                print(\"Not Eligible for Marriage\")\n",
    "            \n"
   ]
  },
  {
   "cell_type": "code",
   "execution_count": 8,
   "id": "3857bbbc",
   "metadata": {},
   "outputs": [
    {
     "name": "stdout",
     "output_type": "stream",
     "text": [
      "Enter the Gender :male\n",
      "Enter the age :25\n",
      "Eligibile for Marriage\n"
     ]
    }
   ],
   "source": [
    "marriage.marriageeligibilty()"
   ]
  },
  {
   "cell_type": "code",
   "execution_count": 9,
   "id": "01f9e3c1",
   "metadata": {},
   "outputs": [],
   "source": [
    "class percentage(): \n",
    "    def marks():\n",
    "        sub1=int(input(\"Subject 1 = \"))\n",
    "        sub2=int(input(\"Subject 2 = \"))\n",
    "        sub3=int(input(\"Subject 3 = \"))\n",
    "        sub4=int(input(\"Subject 4 = \"))\n",
    "        sub5=int(input(\"Subject 5 = \"))\n",
    "\n",
    "\n",
    "        Total=sub1+sub2+sub3+sub4+sub5\n",
    "        print(\"Total\",Total)\n",
    "        percentage=Total/5\n",
    "        print(\"Percentage\",percentage)"
   ]
  },
  {
   "cell_type": "code",
   "execution_count": 10,
   "id": "87a3c61d",
   "metadata": {},
   "outputs": [
    {
     "name": "stdout",
     "output_type": "stream",
     "text": [
      "Subject 1 = 50\n",
      "Subject 2 = 50\n",
      "Subject 3 = 50\n",
      "Subject 4 = 60\n",
      "Subject 5 = 80\n",
      "Total 290\n",
      "Percentage 58.0\n"
     ]
    }
   ],
   "source": [
    "percentage.marks()"
   ]
  },
  {
   "cell_type": "code",
   "execution_count": 16,
   "id": "869dc040",
   "metadata": {},
   "outputs": [],
   "source": [
    "class Tria():\n",
    "    def triangle():\n",
    "        h1=int(input(\"Enter the Height 1 :\"))\n",
    "        b1=int(input(\"Enter the Breadth :\"))\n",
    "        print(\"Area formula: (Height*Breadth)/2\")\n",
    "\n",
    "\n",
    "        Area=(h1*b1)/2\n",
    "        print(\"Area of Triangle\", Area)\n",
    "\n",
    "        h3=int(input(\"Enter the Height 1 :\"))\n",
    "        b2=int(input(\"Enter the Breadth :\"))\n",
    "        h4=int(input(\"Enter the Height 2 :\"))\n",
    "        peri=h3+h4+b2\n",
    "        print(\"Perimeter formula: Height1+Height2+Breadth\")\n",
    "        print(\"Permeter\",peri)"
   ]
  },
  {
   "cell_type": "code",
   "execution_count": 17,
   "id": "eaf9ae7a",
   "metadata": {},
   "outputs": [
    {
     "name": "stdout",
     "output_type": "stream",
     "text": [
      "Enter the Height 1 :10\n",
      "Enter the Breadth :10\n",
      "Area formula: (Height*Breadth)/2\n",
      "Area of Triangle 50.0\n",
      "Enter the Height 1 :20\n",
      "Enter the Breadth :45\n",
      "Enter the Height 2 :10\n",
      "Perimeter formula: Height1+Height2+Breadth\n",
      "Permeter 75\n"
     ]
    }
   ],
   "source": [
    "Tria.triangle()"
   ]
  },
  {
   "cell_type": "code",
   "execution_count": null,
   "id": "6eec0138",
   "metadata": {},
   "outputs": [],
   "source": []
  }
 ],
 "metadata": {
  "kernelspec": {
   "display_name": "Python 3 (ipykernel)",
   "language": "python",
   "name": "python3"
  },
  "language_info": {
   "codemirror_mode": {
    "name": "ipython",
    "version": 3
   },
   "file_extension": ".py",
   "mimetype": "text/x-python",
   "name": "python",
   "nbconvert_exporter": "python",
   "pygments_lexer": "ipython3",
   "version": "3.11.5"
  }
 },
 "nbformat": 4,
 "nbformat_minor": 5
}
