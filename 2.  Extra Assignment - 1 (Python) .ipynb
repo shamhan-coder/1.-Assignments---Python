{
 "cells": [
  {
   "cell_type": "code",
   "execution_count": null,
   "id": "b9bea5bf",
   "metadata": {},
   "outputs": [],
   "source": [
    "print(\"HOPE AI\")"
   ]
  },
  {
   "cell_type": "code",
   "execution_count": null,
   "id": "4bf7c654",
   "metadata": {},
   "outputs": [],
   "source": [
    "HOPEAI=input(\"Enter your Institute Name:\")"
   ]
  },
  {
   "cell_type": "code",
   "execution_count": null,
   "id": "1f1ebd79",
   "metadata": {},
   "outputs": [],
   "source": [
    "print=input(\"Enter Your Name: \")\n",
    "print=int(input(\"Enter Your Age: \"))\n",
    "print=input(\"Enter Your School Name: \")\n",
    "print=input(\"Enter Your Degree: \")\n"
   ]
  },
  {
   "cell_type": "code",
   "execution_count": 1,
   "id": "89d73b39",
   "metadata": {},
   "outputs": [
    {
     "name": "stdout",
     "output_type": "stream",
     "text": [
      "a=43\n",
      "b=34\n",
      "Add= 77\n"
     ]
    }
   ],
   "source": [
    "a=43\n",
    "b=34\n",
    "print(\"a=43\")\n",
    "print(\"b=34\")\n",
    "print(\"Add=\",a+b)"
   ]
  },
  {
   "cell_type": "code",
   "execution_count": 2,
   "id": "c73515c7",
   "metadata": {},
   "outputs": [
    {
     "name": "stdout",
     "output_type": "stream",
     "text": [
      "a=43\n",
      "b=34\n",
      "Sub= 9\n"
     ]
    }
   ],
   "source": [
    "a=43\n",
    "b=34\n",
    "print(\"a=43\")\n",
    "print(\"b=34\")\n",
    "print(\"Sub=\",a-b)"
   ]
  },
  {
   "cell_type": "code",
   "execution_count": 3,
   "id": "4eaa1132",
   "metadata": {},
   "outputs": [
    {
     "name": "stdout",
     "output_type": "stream",
     "text": [
      "a=63\n",
      "b=97\n",
      "Mul= 6111\n"
     ]
    }
   ],
   "source": [
    "a=63\n",
    "b=97\n",
    "print(\"a=63\")\n",
    "print(\"b=97\")\n",
    "print(\"Mul=\",a*b)"
   ]
  },
  {
   "cell_type": "code",
   "execution_count": 4,
   "id": "a0f93bba",
   "metadata": {},
   "outputs": [
    {
     "name": "stdout",
     "output_type": "stream",
     "text": [
      "a=76\n",
      "b=31\n",
      "Float Div = 2.4516129032258065\n"
     ]
    }
   ],
   "source": [
    "a=76\n",
    "b=31\n",
    "print(\"a=76\")\n",
    "print(\"b=31\")\n",
    "print(\"Float Div =\",a/b)"
   ]
  },
  {
   "cell_type": "code",
   "execution_count": 5,
   "id": "9cd6579f",
   "metadata": {},
   "outputs": [
    {
     "name": "stdout",
     "output_type": "stream",
     "text": [
      "a=76\n",
      "b=31\n",
      "Floor Div= 2\n"
     ]
    }
   ],
   "source": [
    "a=76\n",
    "b=31\n",
    "print(\"a=76\")\n",
    "print(\"b=31\")\n",
    "print(\"Floor Div=\",a//b)"
   ]
  },
  {
   "cell_type": "code",
   "execution_count": 6,
   "id": "f4a4e664",
   "metadata": {},
   "outputs": [
    {
     "name": "stdout",
     "output_type": "stream",
     "text": [
      "a=76\n",
      "b=31\n",
      "Modulo= 14\n"
     ]
    }
   ],
   "source": [
    "a=76\n",
    "b=31\n",
    "print(\"a=76\")\n",
    "print(\"b=31\")\n",
    "print(\"Modulo=\",a%b)"
   ]
  },
  {
   "cell_type": "code",
   "execution_count": 7,
   "id": "9824c795",
   "metadata": {},
   "outputs": [
    {
     "name": "stdout",
     "output_type": "stream",
     "text": [
      "a=4\n",
      "b=4\n",
      "Power= 256\n"
     ]
    }
   ],
   "source": [
    "a=4\n",
    "b=4\n",
    "print(\"a=4\")\n",
    "print(\"b=4\")\n",
    "print(\"Power=\",a**b)"
   ]
  },
  {
   "cell_type": "code",
   "execution_count": null,
   "id": "81728065",
   "metadata": {},
   "outputs": [],
   "source": []
  }
 ],
 "metadata": {
  "kernelspec": {
   "display_name": "Python 3 (ipykernel)",
   "language": "python",
   "name": "python3"
  },
  "language_info": {
   "codemirror_mode": {
    "name": "ipython",
    "version": 3
   },
   "file_extension": ".py",
   "mimetype": "text/x-python",
   "name": "python",
   "nbconvert_exporter": "python",
   "pygments_lexer": "ipython3",
   "version": "3.11.5"
  }
 },
 "nbformat": 4,
 "nbformat_minor": 5
}
